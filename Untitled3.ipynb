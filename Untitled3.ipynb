{
  "nbformat": 4,
  "nbformat_minor": 0,
  "metadata": {
    "colab": {
      "name": "Untitled3.ipynb",
      "provenance": [],
      "collapsed_sections": [],
      "authorship_tag": "ABX9TyM5vIJ5wHnxNfaFdhyGgINc",
      "include_colab_link": true
    },
    "kernelspec": {
      "name": "python3",
      "display_name": "Python 3"
    }
  },
  "cells": [
    {
      "cell_type": "markdown",
      "metadata": {
        "id": "view-in-github",
        "colab_type": "text"
      },
      "source": [
        "<a href=\"https://colab.research.google.com/github/kim-kyeongjin/gajua/blob/master/Untitled3.ipynb\" target=\"_parent\"><img src=\"https://colab.research.google.com/assets/colab-badge.svg\" alt=\"Open In Colab\"/></a>"
      ]
    },
    {
      "cell_type": "markdown",
      "metadata": {
        "id": "zm0cZGOaIK9k",
        "colab_type": "text"
      },
      "source": [
        "# 인공지능사관학교 프리코스 과제 목차\n",
        "### 1주차 과제 (2020.05.01)\n",
        "1. 언어\n",
        " 신경망 기반 번역 \n",
        "마이크로소프트의 신경망 기반 번역은 기존의 직역적인 단어 해석을 통한 방법이 아닌 문장 전체의 맥락을 파악하여 사람이 말하는 것과 같은 자연스러운 번역물을 제공하게 된다. 이러한 마이크로소프트의 자연어처리 서비스 루이스는 영어, 독일어, 중국어, 일본어, 한국어 등 다양한 언어가 번역 시스템에 포함 되어있다. 신경망 기반 번역의 과정은 번역의 대상이 되는 문장을 인공지능으로 분석한 후, 해당 문장에 사용된 언어에 대한 기존 지식을 바탕으로 번역모델을 생성하게 된다.\n",
        "[링크 텍스트](https://news.microsoft.com/ko-kr/2017/03/15/luis/)\n",
        "2. 음성\n",
        " 음성인식 가상비서\n",
        "애플의 시리, 아마존의 알렉사, 구글의 heygoogle 등의 음성인식 플랫폼들이 경쟁 되었다. 이러한 기술들은 음성인식, 음성이해, 음성합성 등의 핵심 기술들이 필요하다. 말하는사람의 명령어를 컴퓨터가 이해하는 언어로 자동 변화하는 인공신경망 활용하여 단어와 문장을 학습, 어떤의미 인지를 파악하는 기술과 마지막으로 문장을 음성으로 변환하는 기술이 필요하게 된다. \n",
        "[링크 텍스트](https://www.bioin.or.kr/InnoDS/data/upload/tech/8a11f0b8e04c43df83ab02502773ad73.pdf)\n",
        "3. 이미지\n",
        " 작물 생육측정 기반 스마트팜 2.0\n",
        " 작물 생육측정 기반 스마트팜 2.0 앱은 농업 분야에서 이미지를 통하여 생육 측정을 통해 작물체의 정보를 얻어 이용하는 기술이다. 위의 기술은 한국과학기술연구원에서 개발 되었다. 기존의 스마트팜은 하드웨어 중심의 온도, 습도, 이산화탄소 농도 등의 센서를 이용한 데이터 축적 및 환경제어에 이용을 하였다. 스마트팜 2.0 에서는 작물체의 이미지를 통해 작물체의 정보를 얻어 내어 분석하여 작물체의 생육의 상태 그리고 앞으로 나아갈 방향 및 수확 예측 등 다양한 정보를 얻어 낼 수 있게 되었다. 이를 통해 사람의 경험에 의존하며 각각 사람마다 다르게 예측했던 것들을 보다 이미지를 통한 정보 추출과 이에 따른 분석을 통한 예측이 가능하게 되었다.\n",
        " 이러한 기술처럼 이미지를 분석을 통해 작물체의 생육정보를 뽑을수 있는  목표를 가지고 싶다.\n",
        "[링크 텍스트](http://dongascience.donga.com/news.php?idx=16221)\n",
        "4. 자율주행\n",
        " 딥러닝 기반 드론 자율주행\n",
        "드론의 주행은 시야가 보이지 않을 경우, 고공 비행 등의 이유로 GPS 위치 기반을 이용한 위치 제어를 이용한다. 미리 비행 경로를 입력하여 드론을 제어를 하게 되지만 GPS가 끊어지게 되는 상황에서는 드론은 비행을 할 수 없는 상황에 빠진다. 따라서 이러한 상황을 이겨내기 위해서 실내 측위, 거리 센서 등을 이용한 딥러닝 기반 드론 비행 방법을 학습하는 기술이 개발 되고 있다.\n",
        "NVIDIA 에서 개발 드론 경우, NVIDIA TX1과 두 개의 카메라만으로 GPS 기술 없이 숲과 같은 복잡하고 어려운 환경에서도 주행이 가능하였다.\n",
        "[링크 텍스트](https://youtu.be/4_TmPA-qw9U)\n",
        "\n",
        "\n"
      ]
    },
    {
      "cell_type": "markdown",
      "metadata": {
        "id": "RUIwkMtiWKit",
        "colab_type": "text"
      },
      "source": [
        ""
      ]
    }
  ]
}